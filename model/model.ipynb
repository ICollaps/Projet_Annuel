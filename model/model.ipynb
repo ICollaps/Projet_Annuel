{
 "cells": [
  {
   "cell_type": "code",
   "execution_count": 19,
   "metadata": {},
   "outputs": [],
   "source": [
    "import pandas as pd\n",
    "import numpy as np\n",
    "import matplotlib.pyplot as plt\n",
    "import seaborn as sns\n",
    "from flaml import AutoML\n",
    "from sklearn.model_selection import train_test_split\n",
    "import pickle\n",
    "\n"
   ]
  },
  {
   "cell_type": "code",
   "execution_count": 2,
   "metadata": {},
   "outputs": [
    {
     "name": "stdout",
     "output_type": "stream",
     "text": [
      "            ID  PRG   PL  PR  SK   TS   M11    BD2  Age  Insurance   Sepssis\n",
      "0    ICU200010    6  148  72  35    0  33.6  0.627   50          0  Positive\n",
      "1    ICU200011    1   85  66  29    0  26.6  0.351   31          0  Negative\n",
      "2    ICU200012    8  183  64   0    0  23.3  0.672   32          1  Positive\n",
      "3    ICU200013    1   89  66  23   94  28.1  0.167   21          1  Negative\n",
      "4    ICU200014    0  137  40  35  168  43.1  2.288   33          1  Positive\n",
      "..         ...  ...  ...  ..  ..  ...   ...    ...  ...        ...       ...\n",
      "594  ICU200604    6  123  72  45  230  33.6  0.733   34          0  Negative\n",
      "595  ICU200605    0  188  82  14  185  32.0  0.682   22          1  Positive\n",
      "596  ICU200606    0   67  76   0    0  45.3  0.194   46          1  Negative\n",
      "597  ICU200607    1   89  24  19   25  27.8  0.559   21          0  Negative\n",
      "598  ICU200608    1  173  74   0    0  36.8  0.088   38          1  Positive\n",
      "\n",
      "[599 rows x 11 columns]\n"
     ]
    }
   ],
   "source": [
    "data = pd.read_csv(\"./data/data_sepsis.csv\")\n",
    "print(data)"
   ]
  },
  {
   "cell_type": "code",
   "execution_count": 3,
   "metadata": {},
   "outputs": [
    {
     "name": "stdout",
     "output_type": "stream",
     "text": [
      "            ID  PRG   PL  PR  SK   TS   M11    BD2  Age  Insurance  Sepssis\n",
      "0    ICU200010    6  148  72  35    0  33.6  0.627   50          0        1\n",
      "1    ICU200011    1   85  66  29    0  26.6  0.351   31          0        0\n",
      "2    ICU200012    8  183  64   0    0  23.3  0.672   32          1        1\n",
      "3    ICU200013    1   89  66  23   94  28.1  0.167   21          1        0\n",
      "4    ICU200014    0  137  40  35  168  43.1  2.288   33          1        1\n",
      "..         ...  ...  ...  ..  ..  ...   ...    ...  ...        ...      ...\n",
      "594  ICU200604    6  123  72  45  230  33.6  0.733   34          0        0\n",
      "595  ICU200605    0  188  82  14  185  32.0  0.682   22          1        1\n",
      "596  ICU200606    0   67  76   0    0  45.3  0.194   46          1        0\n",
      "597  ICU200607    1   89  24  19   25  27.8  0.559   21          0        0\n",
      "598  ICU200608    1  173  74   0    0  36.8  0.088   38          1        1\n",
      "\n",
      "[599 rows x 11 columns]\n"
     ]
    }
   ],
   "source": [
    "data[\"Sepssis\"] = data[\"Sepssis\"].map({\"Negative\": 0, \"Positive\": 1})\n",
    "print(data)"
   ]
  },
  {
   "cell_type": "code",
   "execution_count": 12,
   "metadata": {},
   "outputs": [
    {
     "name": "stdout",
     "output_type": "stream",
     "text": [
      "0      1\n",
      "1      0\n",
      "2      1\n",
      "3      0\n",
      "4      1\n",
      "      ..\n",
      "594    0\n",
      "595    1\n",
      "596    0\n",
      "597    0\n",
      "598    1\n",
      "Name: Sepssis, Length: 599, dtype: int64\n",
      "     PRG   PL  PR  SK   TS   M11    BD2  Age  Insurance\n",
      "0      6  148  72  35    0  33.6  0.627   50          0\n",
      "1      1   85  66  29    0  26.6  0.351   31          0\n",
      "2      8  183  64   0    0  23.3  0.672   32          1\n",
      "3      1   89  66  23   94  28.1  0.167   21          1\n",
      "4      0  137  40  35  168  43.1  2.288   33          1\n",
      "..   ...  ...  ..  ..  ...   ...    ...  ...        ...\n",
      "594    6  123  72  45  230  33.6  0.733   34          0\n",
      "595    0  188  82  14  185  32.0  0.682   22          1\n",
      "596    0   67  76   0    0  45.3  0.194   46          1\n",
      "597    1   89  24  19   25  27.8  0.559   21          0\n",
      "598    1  173  74   0    0  36.8  0.088   38          1\n",
      "\n",
      "[599 rows x 9 columns]\n"
     ]
    }
   ],
   "source": [
    "y = data['Sepssis']\n",
    "x = data.drop(['ID', 'Sepssis'], axis=1)\n",
    "\n",
    "print(y)\n",
    "print(x)"
   ]
  },
  {
   "cell_type": "code",
   "execution_count": 13,
   "metadata": {},
   "outputs": [],
   "source": [
    "x_train, x_test, y_train, y_test = train_test_split(x, y, test_size=0.2, random_state=1)\n"
   ]
  },
  {
   "cell_type": "code",
   "execution_count": 14,
   "metadata": {},
   "outputs": [
    {
     "name": "stdout",
     "output_type": "stream",
     "text": [
      "Taille x_train : 479 Taille x_test 120\n",
      "Taille y_train : 479 taille y_test 120\n"
     ]
    }
   ],
   "source": [
    "print(\"Taille x_train :\", len(x_train), \"Taille x_test\",len(x_test))\n",
    "print(\"Taille y_train :\", len(y_train), \"taille y_test\", len(y_test))"
   ]
  },
  {
   "cell_type": "code",
   "execution_count": 31,
   "metadata": {},
   "outputs": [
    {
     "name": "stdout",
     "output_type": "stream",
     "text": [
      "442    0\n",
      "286    0\n",
      "379    0\n",
      "522    0\n",
      "200    0\n",
      "      ..\n",
      "5      0\n",
      "223    0\n",
      "159    1\n",
      "38     1\n",
      "192    1\n",
      "Name: Sepssis, Length: 120, dtype: int64\n"
     ]
    }
   ],
   "source": [
    "print(y_test)"
   ]
  },
  {
   "cell_type": "code",
   "execution_count": null,
   "metadata": {},
   "outputs": [],
   "source": [
    "settings = {\n",
    "\"time_budget\": 600,  # total running time in seconds\n",
    "\"metric\": 'accuracy', \n",
    "\"task\": 'classification',  # task type\n",
    "\"log_file_name\": 'modelv1.log',  # flaml log file\n",
    "\"seed\": 1,    # random seed\n",
    "}\n",
    "\n",
    "\n",
    "automl = AutoML()\n",
    "automl.fit(x_train, y_train,**settings)\n"
   ]
  },
  {
   "cell_type": "code",
   "execution_count": 81,
   "metadata": {},
   "outputs": [
    {
     "name": "stdout",
     "output_type": "stream",
     "text": [
      "Accuracy: 0.7\n"
     ]
    }
   ],
   "source": [
    "from sklearn.metrics import accuracy_score\n",
    "\n",
    "y_pred = automl.predict(x_test)\n",
    "accuracy = accuracy_score(y_test, y_pred)\n",
    "print(\"Accuracy:\", accuracy)\n"
   ]
  },
  {
   "cell_type": "code",
   "execution_count": 73,
   "metadata": {},
   "outputs": [
    {
     "name": "stdout",
     "output_type": "stream",
     "text": [
      "Meilleur modèle : <flaml.automl.model.ExtraTreesEstimator object at 0x000001C78FA60250>\n",
      "Paramètres : {'n_estimators': 59, 'max_features': 0.7186643615193348, 'max_leaves': 39, 'criterion': 'gini'}\n"
     ]
    }
   ],
   "source": [
    "print(\"Meilleur modèle :\", automl.model)\n",
    "print(\"Paramètres :\", automl.best_config)\n"
   ]
  },
  {
   "cell_type": "code",
   "execution_count": 74,
   "metadata": {},
   "outputs": [],
   "source": [
    "\n",
    "# Sauvegarder le modèle\n",
    "with open(\"./trained_models/best_model.pkl\", \"wb\") as file:\n",
    "    pickle.dump(automl.model, file)\n",
    "\n"
   ]
  },
  {
   "cell_type": "code",
   "execution_count": 75,
   "metadata": {},
   "outputs": [],
   "source": [
    "# Charger le modèle\n",
    "with open(\"./trained_models/best_model.pkl\", \"rb\") as file:\n",
    "    loaded_model = pickle.load(file)"
   ]
  },
  {
   "cell_type": "code",
   "execution_count": 76,
   "metadata": {},
   "outputs": [],
   "source": [
    "'''compute predictions of testing dataset''' \n",
    "y_pred = automl.predict(x_test)\n",
    "y_pred_proba = automl.predict_proba(x_test)\n",
    "# print(y_pred_proba)\n"
   ]
  },
  {
   "cell_type": "code",
   "execution_count": 77,
   "metadata": {},
   "outputs": [
    {
     "data": {
      "image/png": "[encoded data removed]",
      "text/plain": [
       "<Figure size 640x480 with 1 Axes>"
      ]
     },
     "metadata": {},
     "output_type": "display_data"
    }
   ],
   "source": [
    "# Prediction probability histogramme\n",
    "choised_proba = []\n",
    "for dual_prob in y_pred_proba:\n",
    "    if dual_prob[0] >= dual_prob[1]:\n",
    "        choised_proba.append(dual_prob[0])\n",
    "    else:\n",
    "        choised_proba.append(dual_prob[1])\n",
    "\n",
    "plt.hist(choised_proba, bins=30, edgecolor='black', alpha=0.75)\n",
    "plt.xlim(0.5,1)\n",
    "plt.xlabel('prediction probability')\n",
    "plt.ylabel('Fréquence')\n",
    "plt.title('Prediction probability distribution')\n",
    "\n",
    "# Affichez l'histogramme\n",
    "plt.show()\n"
   ]
  },
  {
   "cell_type": "code",
   "execution_count": 78,
   "metadata": {},
   "outputs": [
    {
     "name": "stdout",
     "output_type": "stream",
     "text": [
      "accuracy = 0.7\n",
      "roc_auc = 0.7341507177033493\n",
      "log_loss = 0.5813062864921238\n"
     ]
    }
   ],
   "source": [
    "proba = automl.predict_proba(x_test)[:,1]\n",
    "from flaml.ml import sklearn_metric_loss_score\n",
    "print('accuracy', '=', 1 - sklearn_metric_loss_score('accuracy', y_pred, y_test))\n",
    "print('roc_auc', '=', 1 - sklearn_metric_loss_score('roc_auc', proba, y_test))\n",
    "print('log_loss', '=', sklearn_metric_loss_score('log_loss', proba, y_test))"
   ]
  },
  {
   "cell_type": "code",
   "execution_count": 79,
   "metadata": {},
   "outputs": [
    {
     "name": "stdout",
     "output_type": "stream",
     "text": [
      "{'Current Learner': 'lgbm', 'Current Sample': 479, 'Current Hyper-parameters': {'n_estimators': 4, 'num_leaves': 4, 'min_child_samples': 20, 'learning_rate': 0.09999999999999995, 'log_max_bin': 8, 'colsample_bytree': 1.0, 'reg_alpha': 0.0009765625, 'reg_lambda': 1.0}, 'Best Learner': 'lgbm', 'Best Hyper-parameters': {'n_estimators': 4, 'num_leaves': 4, 'min_child_samples': 20, 'learning_rate': 0.09999999999999995, 'log_max_bin': 8, 'colsample_bytree': 1.0, 'reg_alpha': 0.0009765625, 'reg_lambda': 1.0}}\n",
      "{'Current Learner': 'lgbm', 'Current Sample': 479, 'Current Hyper-parameters': {'n_estimators': 4, 'num_leaves': 4, 'min_child_samples': 10, 'learning_rate': 0.24265799106484617, 'log_max_bin': 7, 'colsample_bytree': 0.9350250030443705, 'reg_alpha': 0.0016817704116337995, 'reg_lambda': 0.2602716047300951}, 'Best Learner': 'lgbm', 'Best Hyper-parameters': {'n_estimators': 4, 'num_leaves': 4, 'min_child_samples': 10, 'learning_rate': 0.24265799106484617, 'log_max_bin': 7, 'colsample_bytree': 0.9350250030443705, 'reg_alpha': 0.0016817704116337995, 'reg_lambda': 0.2602716047300951}}\n",
      "{'Current Learner': 'lgbm', 'Current Sample': 479, 'Current Hyper-parameters': {'n_estimators': 4, 'num_leaves': 4, 'min_child_samples': 12, 'learning_rate': 1.0, 'log_max_bin': 7, 'colsample_bytree': 0.8329315437250463, 'reg_alpha': 0.0033508000609790765, 'reg_lambda': 0.12143169613088406}, 'Best Learner': 'lgbm', 'Best Hyper-parameters': {'n_estimators': 4, 'num_leaves': 4, 'min_child_samples': 12, 'learning_rate': 1.0, 'log_max_bin': 7, 'colsample_bytree': 0.8329315437250463, 'reg_alpha': 0.0033508000609790765, 'reg_lambda': 0.12143169613088406}}\n",
      "{'Current Learner': 'lgbm', 'Current Sample': 479, 'Current Hyper-parameters': {'n_estimators': 4, 'num_leaves': 4, 'min_child_samples': 19, 'learning_rate': 0.9909397346337855, 'log_max_bin': 8, 'colsample_bytree': 0.8554634464016099, 'reg_alpha': 0.001997146970884422, 'reg_lambda': 0.8921463788323271}, 'Best Learner': 'lgbm', 'Best Hyper-parameters': {'n_estimators': 4, 'num_leaves': 4, 'min_child_samples': 19, 'learning_rate': 0.9909397346337855, 'log_max_bin': 8, 'colsample_bytree': 0.8554634464016099, 'reg_alpha': 0.001997146970884422, 'reg_lambda': 0.8921463788323271}}\n",
      "{'Current Learner': 'xgboost', 'Current Sample': 479, 'Current Hyper-parameters': {'n_estimators': 4, 'max_leaves': 4, 'min_child_weight': 0.13609034272388, 'learning_rate': 0.24661363052574625, 'subsample': 0.8718531457078008, 'colsample_bylevel': 0.9338398291531309, 'colsample_bytree': 1.0, 'reg_alpha': 0.0009765625, 'reg_lambda': 0.3121107326565384}, 'Best Learner': 'xgboost', 'Best Hyper-parameters': {'n_estimators': 4, 'max_leaves': 4, 'min_child_weight': 0.13609034272388, 'learning_rate': 0.24661363052574625, 'subsample': 0.8718531457078008, 'colsample_bylevel': 0.9338398291531309, 'colsample_bytree': 1.0, 'reg_alpha': 0.0009765625, 'reg_lambda': 0.3121107326565384}}\n",
      "{'Current Learner': 'lgbm', 'Current Sample': 479, 'Current Hyper-parameters': {'n_estimators': 12, 'num_leaves': 4, 'min_child_samples': 16, 'learning_rate': 0.41122291824430707, 'log_max_bin': 8, 'colsample_bytree': 0.9334617262810193, 'reg_alpha': 0.0019971217491198128, 'reg_lambda': 0.44228633904124554}, 'Best Learner': 'lgbm', 'Best Hyper-parameters': {'n_estimators': 12, 'num_leaves': 4, 'min_child_samples': 16, 'learning_rate': 0.41122291824430707, 'log_max_bin': 8, 'colsample_bytree': 0.9334617262810193, 'reg_alpha': 0.0019971217491198128, 'reg_lambda': 0.44228633904124554}}\n",
      "{'Current Learner': 'lgbm', 'Current Sample': 479, 'Current Hyper-parameters': {'n_estimators': 9, 'num_leaves': 5, 'min_child_samples': 19, 'learning_rate': 0.6269974770408019, 'log_max_bin': 8, 'colsample_bytree': 1.0, 'reg_alpha': 0.0009765625, 'reg_lambda': 2.0850220780750535}, 'Best Learner': 'lgbm', 'Best Hyper-parameters': {'n_estimators': 9, 'num_leaves': 5, 'min_child_samples': 19, 'learning_rate': 0.6269974770408019, 'log_max_bin': 8, 'colsample_bytree': 1.0, 'reg_alpha': 0.0009765625, 'reg_lambda': 2.0850220780750535}}\n",
      "{'Current Learner': 'extra', 'Current Sample': 479, 'Current Hyper-parameters': {'n_estimators': 19, 'max_features': 0.8036266511813231, 'max_leaves': 11, 'criterion': 'gini'}, 'Best Learner': 'extra', 'Best Hyper-parameters': {'n_estimators': 19, 'max_features': 0.8036266511813231, 'max_leaves': 11, 'criterion': 'gini'}}\n",
      "{'Current Learner': 'extra', 'Current Sample': 479, 'Current Hyper-parameters': {'n_estimators': 15, 'max_features': 0.7842230033091883, 'max_leaves': 14, 'criterion': 'gini'}, 'Best Learner': 'extra', 'Best Hyper-parameters': {'n_estimators': 15, 'max_features': 0.7842230033091883, 'max_leaves': 14, 'criterion': 'gini'}}\n",
      "{'Current Learner': 'extra', 'Current Sample': 479, 'Current Hyper-parameters': {'n_estimators': 31, 'max_features': 0.8763233951994943, 'max_leaves': 15, 'criterion': 'entropy'}, 'Best Learner': 'extra', 'Best Hyper-parameters': {'n_estimators': 31, 'max_features': 0.8763233951994943, 'max_leaves': 15, 'criterion': 'entropy'}}\n",
      "{'Current Learner': 'extra', 'Current Sample': 479, 'Current Hyper-parameters': {'n_estimators': 22, 'max_features': 0.687716123549082, 'max_leaves': 22, 'criterion': 'gini'}, 'Best Learner': 'extra', 'Best Hyper-parameters': {'n_estimators': 22, 'max_features': 0.687716123549082, 'max_leaves': 22, 'criterion': 'gini'}}\n"
     ]
    }
   ],
   "source": [
    "from flaml.data import get_output_from_log\n",
    "time_history, best_valid_loss_history, valid_loss_history, config_history, metric_history = \\\n",
    "    get_output_from_log(filename=settings['log_file_name'], time_budget=240)\n",
    "for config in config_history:\n",
    "    print(config)"
   ]
  },
  {
   "cell_type": "code",
   "execution_count": 80,
   "metadata": {},
   "outputs": [
    {
     "data": {
      "image/png": "[encoded data removed]",
      "text/plain": [
       "<Figure size 640x480 with 1 Axes>"
      ]
     },
     "metadata": {},
     "output_type": "display_data"
    }
   ],
   "source": [
    "import matplotlib.pyplot as plt\n",
    "import numpy as np\n",
    "\n",
    "plt.title('Learning Curve')\n",
    "plt.xlabel('Wall Clock Time (s)')\n",
    "plt.ylabel('Validation Accuracy')\n",
    "plt.scatter(time_history, 1 - np.array(valid_loss_history))\n",
    "plt.step(time_history, 1 - np.array(best_valid_loss_history), where='post')\n",
    "plt.show()"
   ]
  }
 ],
 "metadata": {
  "kernelspec": {
   "display_name": "env",
   "language": "python",
   "name": "python3"
  },
  "language_info": {
   "codemirror_mode": {
    "name": "ipython",
    "version": 3
   },
   "file_extension": ".py",
   "mimetype": "text/x-python",
   "name": "python",
   "nbconvert_exporter": "python",
   "pygments_lexer": "ipython3",
   "version": "3.10.4"
  },
  "orig_nbformat": 4
 },
 "nbformat": 4,
 "nbformat_minor": 2
}
