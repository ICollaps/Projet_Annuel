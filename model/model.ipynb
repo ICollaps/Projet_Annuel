{
 "cells": [
  {
   "cell_type": "code",
   "execution_count": 19,
   "metadata": {},
   "outputs": [],
   "source": [
    "import pandas as pd\n",
    "import numpy as np\n",
    "import matplotlib.pyplot as plt\n",
    "import seaborn as sns\n",
    "from flaml import AutoML\n",
    "from sklearn.model_selection import train_test_split\n",
    "import pickle\n",
    "\n"
   ]
  },
  {
   "cell_type": "code",
   "execution_count": 2,
   "metadata": {},
   "outputs": [
    {
     "name": "stdout",
     "output_type": "stream",
     "text": [
      "            ID  PRG   PL  PR  SK   TS   M11    BD2  Age  Insurance   Sepssis\n",
      "0    ICU200010    6  148  72  35    0  33.6  0.627   50          0  Positive\n",
      "1    ICU200011    1   85  66  29    0  26.6  0.351   31          0  Negative\n",
      "2    ICU200012    8  183  64   0    0  23.3  0.672   32          1  Positive\n",
      "3    ICU200013    1   89  66  23   94  28.1  0.167   21          1  Negative\n",
      "4    ICU200014    0  137  40  35  168  43.1  2.288   33          1  Positive\n",
      "..         ...  ...  ...  ..  ..  ...   ...    ...  ...        ...       ...\n",
      "594  ICU200604    6  123  72  45  230  33.6  0.733   34          0  Negative\n",
      "595  ICU200605    0  188  82  14  185  32.0  0.682   22          1  Positive\n",
      "596  ICU200606    0   67  76   0    0  45.3  0.194   46          1  Negative\n",
      "597  ICU200607    1   89  24  19   25  27.8  0.559   21          0  Negative\n",
      "598  ICU200608    1  173  74   0    0  36.8  0.088   38          1  Positive\n",
      "\n",
      "[599 rows x 11 columns]\n"
     ]
    }
   ],
   "source": [
    "data = pd.read_csv(\"./data/data_sepsis.csv\")\n",
    "print(data)"
   ]
  },
  {
   "cell_type": "code",
   "execution_count": 3,
   "metadata": {},
   "outputs": [
    {
     "name": "stdout",
     "output_type": "stream",
     "text": [
      "            ID  PRG   PL  PR  SK   TS   M11    BD2  Age  Insurance  Sepssis\n",
      "0    ICU200010    6  148  72  35    0  33.6  0.627   50          0        1\n",
      "1    ICU200011    1   85  66  29    0  26.6  0.351   31          0        0\n",
      "2    ICU200012    8  183  64   0    0  23.3  0.672   32          1        1\n",
      "3    ICU200013    1   89  66  23   94  28.1  0.167   21          1        0\n",
      "4    ICU200014    0  137  40  35  168  43.1  2.288   33          1        1\n",
      "..         ...  ...  ...  ..  ..  ...   ...    ...  ...        ...      ...\n",
      "594  ICU200604    6  123  72  45  230  33.6  0.733   34          0        0\n",
      "595  ICU200605    0  188  82  14  185  32.0  0.682   22          1        1\n",
      "596  ICU200606    0   67  76   0    0  45.3  0.194   46          1        0\n",
      "597  ICU200607    1   89  24  19   25  27.8  0.559   21          0        0\n",
      "598  ICU200608    1  173  74   0    0  36.8  0.088   38          1        1\n",
      "\n",
      "[599 rows x 11 columns]\n"
     ]
    }
   ],
   "source": [
    "data[\"Sepssis\"] = data[\"Sepssis\"].map({\"Negative\": 0, \"Positive\": 1})\n",
    "print(data)"
   ]
  },
  {
   "cell_type": "code",
   "execution_count": 12,
   "metadata": {},
   "outputs": [
    {
     "name": "stdout",
     "output_type": "stream",
     "text": [
      "0      1\n",
      "1      0\n",
      "2      1\n",
      "3      0\n",
      "4      1\n",
      "      ..\n",
      "594    0\n",
      "595    1\n",
      "596    0\n",
      "597    0\n",
      "598    1\n",
      "Name: Sepssis, Length: 599, dtype: int64\n",
      "     PRG   PL  PR  SK   TS   M11    BD2  Age  Insurance\n",
      "0      6  148  72  35    0  33.6  0.627   50          0\n",
      "1      1   85  66  29    0  26.6  0.351   31          0\n",
      "2      8  183  64   0    0  23.3  0.672   32          1\n",
      "3      1   89  66  23   94  28.1  0.167   21          1\n",
      "4      0  137  40  35  168  43.1  2.288   33          1\n",
      "..   ...  ...  ..  ..  ...   ...    ...  ...        ...\n",
      "594    6  123  72  45  230  33.6  0.733   34          0\n",
      "595    0  188  82  14  185  32.0  0.682   22          1\n",
      "596    0   67  76   0    0  45.3  0.194   46          1\n",
      "597    1   89  24  19   25  27.8  0.559   21          0\n",
      "598    1  173  74   0    0  36.8  0.088   38          1\n",
      "\n",
      "[599 rows x 9 columns]\n"
     ]
    }
   ],
   "source": [
    "y = data['Sepssis']\n",
    "x = data.drop(['ID', 'Sepssis'], axis=1)\n",
    "\n",
    "print(y)\n",
    "print(x)"
   ]
  },
  {
   "cell_type": "code",
   "execution_count": 13,
   "metadata": {},
   "outputs": [],
   "source": [
    "x_train, x_test, y_train, y_test = train_test_split(x, y, test_size=0.2, random_state=1)\n"
   ]
  },
  {
   "cell_type": "code",
   "execution_count": 14,
   "metadata": {},
   "outputs": [
    {
     "name": "stdout",
     "output_type": "stream",
     "text": [
      "Taille x_train : 479 Taille x_test 120\n",
      "Taille y_train : 479 taille y_test 120\n"
     ]
    }
   ],
   "source": [
    "print(\"Taille x_train :\", len(x_train), \"Taille x_test\",len(x_test))\n",
    "print(\"Taille y_train :\", len(y_train), \"taille y_test\", len(y_test))"
   ]
  },
  {
   "cell_type": "code",
   "execution_count": 31,
   "metadata": {},
   "outputs": [
    {
     "name": "stdout",
     "output_type": "stream",
     "text": [
      "442    0\n",
      "286    0\n",
      "379    0\n",
      "522    0\n",
      "200    0\n",
      "      ..\n",
      "5      0\n",
      "223    0\n",
      "159    1\n",
      "38     1\n",
      "192    1\n",
      "Name: Sepssis, Length: 120, dtype: int64\n"
     ]
    }
   ],
   "source": [
    "print(y_test)"
   ]
  },
  {
   "cell_type": "code",
   "execution_count": 49,
   "metadata": {},
   "outputs": [
    {
     "name": "stdout",
     "output_type": "stream",
     "text": [
      "[flaml.automl.automl: 03-30 18:38:50] {2726} INFO - task = classification\n",
      "[flaml.automl.automl: 03-30 18:38:50] {2728} INFO - Data split method: stratified\n",
      "[flaml.automl.automl: 03-30 18:38:50] {2731} INFO - Evaluation method: cv\n",
      "[flaml.automl.automl: 03-30 18:38:50] {2858} INFO - Minimizing error metric: 1-accuracy\n",
      "[flaml.automl.automl: 03-30 18:38:50] {3004} INFO - List of ML learners in AutoML Run: ['lgbm', 'rf', 'xgboost', 'extra_tree', 'xgb_limitdepth', 'lrl1']\n",
      "[flaml.automl.automl: 03-30 18:38:50] {3334} INFO - iteration 0, current learner lgbm\n",
      "[flaml.automl.automl: 03-30 18:38:50] {3472} INFO - Estimated sufficient time budget=2330s. Estimated necessary time budget=54s.\n",
      "[flaml.automl.automl: 03-30 18:38:50] {3519} INFO -  at 0.3s,\testimator lgbm's best error=0.3424,\tbest estimator lgbm's best error=0.3424\n",
      "[flaml.automl.automl: 03-30 18:38:50] {3334} INFO - iteration 1, current learner lgbm\n",
      "[flaml.automl.automl: 03-30 18:38:51] {3519} INFO -  at 0.5s,\testimator lgbm's best error=0.2546,\tbest estimator lgbm's best error=0.2546\n",
      "[flaml.automl.automl: 03-30 18:38:51] {3334} INFO - iteration 2, current learner lgbm\n",
      "[flaml.automl.automl: 03-30 18:38:51] {3519} INFO -  at 0.7s,\testimator lgbm's best error=0.2546,\tbest estimator lgbm's best error=0.2546\n",
      "[flaml.automl.automl: 03-30 18:38:51] {3334} INFO - iteration 3, current learner lgbm\n",
      "[flaml.automl.automl: 03-30 18:38:51] {3519} INFO -  at 0.9s,\testimator lgbm's best error=0.2443,\tbest estimator lgbm's best error=0.2443\n",
      "[flaml.automl.automl: 03-30 18:38:51] {3334} INFO - iteration 4, current learner xgboost\n"
     ]
    },
    {
     "name": "stderr",
     "output_type": "stream",
     "text": [
      "d:\\Programmation\\Projet_Annuel\\env\\lib\\site-packages\\xgboost\\sklearn.py:1395: UserWarning: `use_label_encoder` is deprecated in 1.7.0.\n",
      "  warnings.warn(\"`use_label_encoder` is deprecated in 1.7.0.\")\n",
      "d:\\Programmation\\Projet_Annuel\\env\\lib\\site-packages\\xgboost\\sklearn.py:1395: UserWarning: `use_label_encoder` is deprecated in 1.7.0.\n",
      "  warnings.warn(\"`use_label_encoder` is deprecated in 1.7.0.\")\n",
      "d:\\Programmation\\Projet_Annuel\\env\\lib\\site-packages\\xgboost\\sklearn.py:1395: UserWarning: `use_label_encoder` is deprecated in 1.7.0.\n",
      "  warnings.warn(\"`use_label_encoder` is deprecated in 1.7.0.\")\n"
     ]
    },
    {
     "name": "stdout",
     "output_type": "stream",
     "text": [
      "[flaml.automl.automl: 03-30 18:38:52] {3519} INFO -  at 1.3s,\testimator xgboost's best error=0.2463,\tbest estimator lgbm's best error=0.2443\n"
     ]
    },
    {
     "name": "stderr",
     "output_type": "stream",
     "text": [
      "d:\\Programmation\\Projet_Annuel\\env\\lib\\site-packages\\xgboost\\sklearn.py:1395: UserWarning: `use_label_encoder` is deprecated in 1.7.0.\n",
      "  warnings.warn(\"`use_label_encoder` is deprecated in 1.7.0.\")\n",
      "d:\\Programmation\\Projet_Annuel\\env\\lib\\site-packages\\xgboost\\sklearn.py:1395: UserWarning: `use_label_encoder` is deprecated in 1.7.0.\n",
      "  warnings.warn(\"`use_label_encoder` is deprecated in 1.7.0.\")\n"
     ]
    },
    {
     "name": "stdout",
     "output_type": "stream",
     "text": [
      "[flaml.automl.automl: 03-30 18:38:52] {3334} INFO - iteration 5, current learner lgbm\n",
      "[flaml.automl.automl: 03-30 18:38:52] {3519} INFO -  at 1.7s,\testimator lgbm's best error=0.2443,\tbest estimator lgbm's best error=0.2443\n",
      "[flaml.automl.automl: 03-30 18:38:52] {3334} INFO - iteration 6, current learner lgbm\n",
      "[flaml.automl.automl: 03-30 18:38:52] {3519} INFO -  at 1.9s,\testimator lgbm's best error=0.2443,\tbest estimator lgbm's best error=0.2443\n",
      "[flaml.automl.automl: 03-30 18:38:52] {3334} INFO - iteration 7, current learner lgbm\n",
      "[flaml.automl.automl: 03-30 18:38:52] {3519} INFO -  at 2.1s,\testimator lgbm's best error=0.2422,\tbest estimator lgbm's best error=0.2422\n",
      "[flaml.automl.automl: 03-30 18:38:52] {3334} INFO - iteration 8, current learner lgbm\n",
      "[flaml.automl.automl: 03-30 18:38:53] {3519} INFO -  at 2.4s,\testimator lgbm's best error=0.2422,\tbest estimator lgbm's best error=0.2422\n",
      "[flaml.automl.automl: 03-30 18:38:53] {3334} INFO - iteration 9, current learner lgbm\n",
      "[flaml.automl.automl: 03-30 18:38:53] {3519} INFO -  at 2.7s,\testimator lgbm's best error=0.2422,\tbest estimator lgbm's best error=0.2422\n",
      "[flaml.automl.automl: 03-30 18:38:53] {3334} INFO - iteration 10, current learner xgboost\n"
     ]
    },
    {
     "name": "stderr",
     "output_type": "stream",
     "text": [
      "d:\\Programmation\\Projet_Annuel\\env\\lib\\site-packages\\xgboost\\sklearn.py:1395: UserWarning: `use_label_encoder` is deprecated in 1.7.0.\n",
      "  warnings.warn(\"`use_label_encoder` is deprecated in 1.7.0.\")\n",
      "d:\\Programmation\\Projet_Annuel\\env\\lib\\site-packages\\xgboost\\sklearn.py:1395: UserWarning: `use_label_encoder` is deprecated in 1.7.0.\n",
      "  warnings.warn(\"`use_label_encoder` is deprecated in 1.7.0.\")\n",
      "d:\\Programmation\\Projet_Annuel\\env\\lib\\site-packages\\xgboost\\sklearn.py:1395: UserWarning: `use_label_encoder` is deprecated in 1.7.0.\n",
      "  warnings.warn(\"`use_label_encoder` is deprecated in 1.7.0.\")\n",
      "d:\\Programmation\\Projet_Annuel\\env\\lib\\site-packages\\xgboost\\sklearn.py:1395: UserWarning: `use_label_encoder` is deprecated in 1.7.0.\n",
      "  warnings.warn(\"`use_label_encoder` is deprecated in 1.7.0.\")\n"
     ]
    },
    {
     "name": "stdout",
     "output_type": "stream",
     "text": [
      "[flaml.automl.automl: 03-30 18:38:53] {3519} INFO -  at 3.2s,\testimator xgboost's best error=0.2297,\tbest estimator xgboost's best error=0.2297\n",
      "[flaml.automl.automl: 03-30 18:38:53] {3334} INFO - iteration 11, current learner extra_tree\n"
     ]
    },
    {
     "name": "stderr",
     "output_type": "stream",
     "text": [
      "d:\\Programmation\\Projet_Annuel\\env\\lib\\site-packages\\xgboost\\sklearn.py:1395: UserWarning: `use_label_encoder` is deprecated in 1.7.0.\n",
      "  warnings.warn(\"`use_label_encoder` is deprecated in 1.7.0.\")\n"
     ]
    },
    {
     "name": "stdout",
     "output_type": "stream",
     "text": [
      "[flaml.automl.automl: 03-30 18:38:54] {3519} INFO -  at 3.8s,\testimator extra_tree's best error=0.2901,\tbest estimator xgboost's best error=0.2297\n",
      "[flaml.automl.automl: 03-30 18:38:54] {3334} INFO - iteration 12, current learner rf\n",
      "[flaml.automl.automl: 03-30 18:38:55] {3519} INFO -  at 4.4s,\testimator rf's best error=0.2547,\tbest estimator xgboost's best error=0.2297\n",
      "[flaml.automl.automl: 03-30 18:38:55] {3334} INFO - iteration 13, current learner xgboost\n"
     ]
    },
    {
     "name": "stderr",
     "output_type": "stream",
     "text": [
      "d:\\Programmation\\Projet_Annuel\\env\\lib\\site-packages\\xgboost\\sklearn.py:1395: UserWarning: `use_label_encoder` is deprecated in 1.7.0.\n",
      "  warnings.warn(\"`use_label_encoder` is deprecated in 1.7.0.\")\n",
      "d:\\Programmation\\Projet_Annuel\\env\\lib\\site-packages\\xgboost\\sklearn.py:1395: UserWarning: `use_label_encoder` is deprecated in 1.7.0.\n",
      "  warnings.warn(\"`use_label_encoder` is deprecated in 1.7.0.\")\n",
      "d:\\Programmation\\Projet_Annuel\\env\\lib\\site-packages\\xgboost\\sklearn.py:1395: UserWarning: `use_label_encoder` is deprecated in 1.7.0.\n",
      "  warnings.warn(\"`use_label_encoder` is deprecated in 1.7.0.\")\n",
      "d:\\Programmation\\Projet_Annuel\\env\\lib\\site-packages\\xgboost\\sklearn.py:1395: UserWarning: `use_label_encoder` is deprecated in 1.7.0.\n",
      "  warnings.warn(\"`use_label_encoder` is deprecated in 1.7.0.\")\n"
     ]
    },
    {
     "name": "stdout",
     "output_type": "stream",
     "text": [
      "[flaml.automl.automl: 03-30 18:38:55] {3519} INFO -  at 4.7s,\testimator xgboost's best error=0.2297,\tbest estimator xgboost's best error=0.2297\n",
      "[flaml.automl.automl: 03-30 18:38:55] {3334} INFO - iteration 14, current learner xgboost\n"
     ]
    },
    {
     "name": "stderr",
     "output_type": "stream",
     "text": [
      "d:\\Programmation\\Projet_Annuel\\env\\lib\\site-packages\\xgboost\\sklearn.py:1395: UserWarning: `use_label_encoder` is deprecated in 1.7.0.\n",
      "  warnings.warn(\"`use_label_encoder` is deprecated in 1.7.0.\")\n",
      "d:\\Programmation\\Projet_Annuel\\env\\lib\\site-packages\\xgboost\\sklearn.py:1395: UserWarning: `use_label_encoder` is deprecated in 1.7.0.\n",
      "  warnings.warn(\"`use_label_encoder` is deprecated in 1.7.0.\")\n",
      "d:\\Programmation\\Projet_Annuel\\env\\lib\\site-packages\\xgboost\\sklearn.py:1395: UserWarning: `use_label_encoder` is deprecated in 1.7.0.\n",
      "  warnings.warn(\"`use_label_encoder` is deprecated in 1.7.0.\")\n",
      "d:\\Programmation\\Projet_Annuel\\env\\lib\\site-packages\\xgboost\\sklearn.py:1395: UserWarning: `use_label_encoder` is deprecated in 1.7.0.\n",
      "  warnings.warn(\"`use_label_encoder` is deprecated in 1.7.0.\")\n"
     ]
    },
    {
     "name": "stdout",
     "output_type": "stream",
     "text": [
      "[flaml.automl.automl: 03-30 18:38:55] {3519} INFO -  at 5.0s,\testimator xgboost's best error=0.2297,\tbest estimator xgboost's best error=0.2297\n",
      "[flaml.automl.automl: 03-30 18:38:55] {3334} INFO - iteration 15, current learner extra_tree\n"
     ]
    },
    {
     "name": "stderr",
     "output_type": "stream",
     "text": [
      "d:\\Programmation\\Projet_Annuel\\env\\lib\\site-packages\\xgboost\\sklearn.py:1395: UserWarning: `use_label_encoder` is deprecated in 1.7.0.\n",
      "  warnings.warn(\"`use_label_encoder` is deprecated in 1.7.0.\")\n",
      "d:\\Programmation\\Projet_Annuel\\env\\lib\\site-packages\\xgboost\\sklearn.py:1395: UserWarning: `use_label_encoder` is deprecated in 1.7.0.\n",
      "  warnings.warn(\"`use_label_encoder` is deprecated in 1.7.0.\")\n"
     ]
    },
    {
     "name": "stdout",
     "output_type": "stream",
     "text": [
      "[flaml.automl.automl: 03-30 18:38:56] {3519} INFO -  at 5.4s,\testimator extra_tree's best error=0.2901,\tbest estimator xgboost's best error=0.2297\n",
      "[flaml.automl.automl: 03-30 18:38:56] {3334} INFO - iteration 16, current learner rf\n",
      "[flaml.automl.automl: 03-30 18:38:56] {3519} INFO -  at 5.9s,\testimator rf's best error=0.2547,\tbest estimator xgboost's best error=0.2297\n",
      "[flaml.automl.automl: 03-30 18:38:56] {3334} INFO - iteration 17, current learner extra_tree\n",
      "[flaml.automl.automl: 03-30 18:38:57] {3519} INFO -  at 6.7s,\testimator extra_tree's best error=0.2673,\tbest estimator xgboost's best error=0.2297\n",
      "[flaml.automl.automl: 03-30 18:38:57] {3334} INFO - iteration 18, current learner rf\n",
      "[flaml.automl.automl: 03-30 18:38:58] {3519} INFO -  at 7.4s,\testimator rf's best error=0.2547,\tbest estimator xgboost's best error=0.2297\n",
      "[flaml.automl.automl: 03-30 18:38:58] {3334} INFO - iteration 19, current learner xgboost\n"
     ]
    },
    {
     "name": "stderr",
     "output_type": "stream",
     "text": [
      "d:\\Programmation\\Projet_Annuel\\env\\lib\\site-packages\\xgboost\\sklearn.py:1395: UserWarning: `use_label_encoder` is deprecated in 1.7.0.\n",
      "  warnings.warn(\"`use_label_encoder` is deprecated in 1.7.0.\")\n",
      "d:\\Programmation\\Projet_Annuel\\env\\lib\\site-packages\\xgboost\\sklearn.py:1395: UserWarning: `use_label_encoder` is deprecated in 1.7.0.\n",
      "  warnings.warn(\"`use_label_encoder` is deprecated in 1.7.0.\")\n",
      "d:\\Programmation\\Projet_Annuel\\env\\lib\\site-packages\\xgboost\\sklearn.py:1395: UserWarning: `use_label_encoder` is deprecated in 1.7.0.\n",
      "  warnings.warn(\"`use_label_encoder` is deprecated in 1.7.0.\")\n",
      "d:\\Programmation\\Projet_Annuel\\env\\lib\\site-packages\\xgboost\\sklearn.py:1395: UserWarning: `use_label_encoder` is deprecated in 1.7.0.\n",
      "  warnings.warn(\"`use_label_encoder` is deprecated in 1.7.0.\")\n",
      "d:\\Programmation\\Projet_Annuel\\env\\lib\\site-packages\\xgboost\\sklearn.py:1395: UserWarning: `use_label_encoder` is deprecated in 1.7.0.\n",
      "  warnings.warn(\"`use_label_encoder` is deprecated in 1.7.0.\")\n"
     ]
    },
    {
     "name": "stdout",
     "output_type": "stream",
     "text": [
      "[flaml.automl.automl: 03-30 18:38:58] {3519} INFO -  at 7.9s,\testimator xgboost's best error=0.2297,\tbest estimator xgboost's best error=0.2297\n",
      "[flaml.automl.automl: 03-30 18:38:58] {3334} INFO - iteration 20, current learner rf\n",
      "[flaml.automl.automl: 03-30 18:38:59] {3519} INFO -  at 8.5s,\testimator rf's best error=0.2506,\tbest estimator xgboost's best error=0.2297\n",
      "[flaml.automl.automl: 03-30 18:38:59] {3334} INFO - iteration 21, current learner xgboost\n"
     ]
    },
    {
     "name": "stderr",
     "output_type": "stream",
     "text": [
      "d:\\Programmation\\Projet_Annuel\\env\\lib\\site-packages\\xgboost\\sklearn.py:1395: UserWarning: `use_label_encoder` is deprecated in 1.7.0.\n",
      "  warnings.warn(\"`use_label_encoder` is deprecated in 1.7.0.\")\n",
      "d:\\Programmation\\Projet_Annuel\\env\\lib\\site-packages\\xgboost\\sklearn.py:1395: UserWarning: `use_label_encoder` is deprecated in 1.7.0.\n",
      "  warnings.warn(\"`use_label_encoder` is deprecated in 1.7.0.\")\n",
      "d:\\Programmation\\Projet_Annuel\\env\\lib\\site-packages\\xgboost\\sklearn.py:1395: UserWarning: `use_label_encoder` is deprecated in 1.7.0.\n",
      "  warnings.warn(\"`use_label_encoder` is deprecated in 1.7.0.\")\n",
      "d:\\Programmation\\Projet_Annuel\\env\\lib\\site-packages\\xgboost\\sklearn.py:1395: UserWarning: `use_label_encoder` is deprecated in 1.7.0.\n",
      "  warnings.warn(\"`use_label_encoder` is deprecated in 1.7.0.\")\n",
      "d:\\Programmation\\Projet_Annuel\\env\\lib\\site-packages\\xgboost\\sklearn.py:1395: UserWarning: `use_label_encoder` is deprecated in 1.7.0.\n",
      "  warnings.warn(\"`use_label_encoder` is deprecated in 1.7.0.\")\n"
     ]
    },
    {
     "name": "stdout",
     "output_type": "stream",
     "text": [
      "[flaml.automl.automl: 03-30 18:38:59] {3519} INFO -  at 8.9s,\testimator xgboost's best error=0.2297,\tbest estimator xgboost's best error=0.2297\n",
      "[flaml.automl.automl: 03-30 18:38:59] {3334} INFO - iteration 22, current learner xgboost\n"
     ]
    },
    {
     "name": "stderr",
     "output_type": "stream",
     "text": [
      "d:\\Programmation\\Projet_Annuel\\env\\lib\\site-packages\\xgboost\\sklearn.py:1395: UserWarning: `use_label_encoder` is deprecated in 1.7.0.\n",
      "  warnings.warn(\"`use_label_encoder` is deprecated in 1.7.0.\")\n",
      "d:\\Programmation\\Projet_Annuel\\env\\lib\\site-packages\\xgboost\\sklearn.py:1395: UserWarning: `use_label_encoder` is deprecated in 1.7.0.\n",
      "  warnings.warn(\"`use_label_encoder` is deprecated in 1.7.0.\")\n",
      "d:\\Programmation\\Projet_Annuel\\env\\lib\\site-packages\\xgboost\\sklearn.py:1395: UserWarning: `use_label_encoder` is deprecated in 1.7.0.\n",
      "  warnings.warn(\"`use_label_encoder` is deprecated in 1.7.0.\")\n",
      "d:\\Programmation\\Projet_Annuel\\env\\lib\\site-packages\\xgboost\\sklearn.py:1395: UserWarning: `use_label_encoder` is deprecated in 1.7.0.\n",
      "  warnings.warn(\"`use_label_encoder` is deprecated in 1.7.0.\")\n",
      "d:\\Programmation\\Projet_Annuel\\env\\lib\\site-packages\\xgboost\\sklearn.py:1395: UserWarning: `use_label_encoder` is deprecated in 1.7.0.\n",
      "  warnings.warn(\"`use_label_encoder` is deprecated in 1.7.0.\")\n"
     ]
    },
    {
     "name": "stdout",
     "output_type": "stream",
     "text": [
      "[flaml.automl.automl: 03-30 18:39:00] {3519} INFO -  at 9.4s,\testimator xgboost's best error=0.2297,\tbest estimator xgboost's best error=0.2297\n",
      "[flaml.automl.automl: 03-30 18:39:00] {3334} INFO - iteration 23, current learner xgboost\n"
     ]
    },
    {
     "name": "stderr",
     "output_type": "stream",
     "text": [
      "d:\\Programmation\\Projet_Annuel\\env\\lib\\site-packages\\xgboost\\sklearn.py:1395: UserWarning: `use_label_encoder` is deprecated in 1.7.0.\n",
      "  warnings.warn(\"`use_label_encoder` is deprecated in 1.7.0.\")\n",
      "d:\\Programmation\\Projet_Annuel\\env\\lib\\site-packages\\xgboost\\sklearn.py:1395: UserWarning: `use_label_encoder` is deprecated in 1.7.0.\n",
      "  warnings.warn(\"`use_label_encoder` is deprecated in 1.7.0.\")\n",
      "d:\\Programmation\\Projet_Annuel\\env\\lib\\site-packages\\xgboost\\sklearn.py:1395: UserWarning: `use_label_encoder` is deprecated in 1.7.0.\n",
      "  warnings.warn(\"`use_label_encoder` is deprecated in 1.7.0.\")\n"
     ]
    },
    {
     "name": "stdout",
     "output_type": "stream",
     "text": [
      "[flaml.automl.automl: 03-30 18:39:00] {3519} INFO -  at 9.8s,\testimator xgboost's best error=0.2297,\tbest estimator xgboost's best error=0.2297\n",
      "[flaml.automl.automl: 03-30 18:39:00] {3334} INFO - iteration 24, current learner extra_tree\n"
     ]
    },
    {
     "name": "stderr",
     "output_type": "stream",
     "text": [
      "d:\\Programmation\\Projet_Annuel\\env\\lib\\site-packages\\xgboost\\sklearn.py:1395: UserWarning: `use_label_encoder` is deprecated in 1.7.0.\n",
      "  warnings.warn(\"`use_label_encoder` is deprecated in 1.7.0.\")\n",
      "d:\\Programmation\\Projet_Annuel\\env\\lib\\site-packages\\xgboost\\sklearn.py:1395: UserWarning: `use_label_encoder` is deprecated in 1.7.0.\n",
      "  warnings.warn(\"`use_label_encoder` is deprecated in 1.7.0.\")\n"
     ]
    },
    {
     "name": "stdout",
     "output_type": "stream",
     "text": [
      "[flaml.automl.automl: 03-30 18:39:00] {3519} INFO -  at 10.3s,\testimator extra_tree's best error=0.2673,\tbest estimator xgboost's best error=0.2297\n",
      "[flaml.automl.automl: 03-30 18:39:00] {3334} INFO - iteration 25, current learner extra_tree\n",
      "[flaml.automl.automl: 03-30 18:39:01] {3519} INFO -  at 11.0s,\testimator extra_tree's best error=0.2673,\tbest estimator xgboost's best error=0.2297\n",
      "[flaml.automl.automl: 03-30 18:39:01] {3334} INFO - iteration 26, current learner xgboost\n"
     ]
    },
    {
     "name": "stderr",
     "output_type": "stream",
     "text": [
      "d:\\Programmation\\Projet_Annuel\\env\\lib\\site-packages\\xgboost\\sklearn.py:1395: UserWarning: `use_label_encoder` is deprecated in 1.7.0.\n",
      "  warnings.warn(\"`use_label_encoder` is deprecated in 1.7.0.\")\n",
      "d:\\Programmation\\Projet_Annuel\\env\\lib\\site-packages\\xgboost\\sklearn.py:1395: UserWarning: `use_label_encoder` is deprecated in 1.7.0.\n",
      "  warnings.warn(\"`use_label_encoder` is deprecated in 1.7.0.\")\n",
      "d:\\Programmation\\Projet_Annuel\\env\\lib\\site-packages\\xgboost\\sklearn.py:1395: UserWarning: `use_label_encoder` is deprecated in 1.7.0.\n",
      "  warnings.warn(\"`use_label_encoder` is deprecated in 1.7.0.\")\n"
     ]
    },
    {
     "name": "stdout",
     "output_type": "stream",
     "text": [
      "[flaml.automl.automl: 03-30 18:39:02] {3519} INFO -  at 11.5s,\testimator xgboost's best error=0.2297,\tbest estimator xgboost's best error=0.2297\n",
      "[flaml.automl.automl: 03-30 18:39:02] {3334} INFO - iteration 27, current learner xgboost\n"
     ]
    },
    {
     "name": "stderr",
     "output_type": "stream",
     "text": [
      "d:\\Programmation\\Projet_Annuel\\env\\lib\\site-packages\\xgboost\\sklearn.py:1395: UserWarning: `use_label_encoder` is deprecated in 1.7.0.\n",
      "  warnings.warn(\"`use_label_encoder` is deprecated in 1.7.0.\")\n",
      "d:\\Programmation\\Projet_Annuel\\env\\lib\\site-packages\\xgboost\\sklearn.py:1395: UserWarning: `use_label_encoder` is deprecated in 1.7.0.\n",
      "  warnings.warn(\"`use_label_encoder` is deprecated in 1.7.0.\")\n",
      "d:\\Programmation\\Projet_Annuel\\env\\lib\\site-packages\\xgboost\\sklearn.py:1395: UserWarning: `use_label_encoder` is deprecated in 1.7.0.\n",
      "  warnings.warn(\"`use_label_encoder` is deprecated in 1.7.0.\")\n",
      "d:\\Programmation\\Projet_Annuel\\env\\lib\\site-packages\\xgboost\\sklearn.py:1395: UserWarning: `use_label_encoder` is deprecated in 1.7.0.\n",
      "  warnings.warn(\"`use_label_encoder` is deprecated in 1.7.0.\")\n",
      "d:\\Programmation\\Projet_Annuel\\env\\lib\\site-packages\\xgboost\\sklearn.py:1395: UserWarning: `use_label_encoder` is deprecated in 1.7.0.\n",
      "  warnings.warn(\"`use_label_encoder` is deprecated in 1.7.0.\")\n",
      "d:\\Programmation\\Projet_Annuel\\env\\lib\\site-packages\\xgboost\\sklearn.py:1395: UserWarning: `use_label_encoder` is deprecated in 1.7.0.\n",
      "  warnings.warn(\"`use_label_encoder` is deprecated in 1.7.0.\")\n",
      "d:\\Programmation\\Projet_Annuel\\env\\lib\\site-packages\\xgboost\\sklearn.py:1395: UserWarning: `use_label_encoder` is deprecated in 1.7.0.\n",
      "  warnings.warn(\"`use_label_encoder` is deprecated in 1.7.0.\")\n"
     ]
    },
    {
     "name": "stdout",
     "output_type": "stream",
     "text": [
      "[flaml.automl.automl: 03-30 18:39:02] {3519} INFO -  at 11.9s,\testimator xgboost's best error=0.2297,\tbest estimator xgboost's best error=0.2297\n",
      "[flaml.automl.automl: 03-30 18:39:02] {3334} INFO - iteration 28, current learner extra_tree\n",
      "[flaml.automl.automl: 03-30 18:39:03] {3519} INFO -  at 12.4s,\testimator extra_tree's best error=0.2673,\tbest estimator xgboost's best error=0.2297\n",
      "[flaml.automl.automl: 03-30 18:39:03] {3334} INFO - iteration 29, current learner extra_tree\n",
      "[flaml.automl.automl: 03-30 18:39:03] {3519} INFO -  at 13.3s,\testimator extra_tree's best error=0.2631,\tbest estimator xgboost's best error=0.2297\n",
      "[flaml.automl.automl: 03-30 18:39:03] {3334} INFO - iteration 30, current learner lgbm\n",
      "[flaml.automl.automl: 03-30 18:39:04] {3519} INFO -  at 13.6s,\testimator lgbm's best error=0.2422,\tbest estimator xgboost's best error=0.2297\n",
      "[flaml.automl.automl: 03-30 18:39:04] {3334} INFO - iteration 31, current learner lgbm\n",
      "[flaml.automl.automl: 03-30 18:39:04] {3519} INFO -  at 14.0s,\testimator lgbm's best error=0.2235,\tbest estimator lgbm's best error=0.2235\n",
      "[flaml.automl.automl: 03-30 18:39:04] {3334} INFO - iteration 32, current learner lgbm\n",
      "[flaml.automl.automl: 03-30 18:39:05] {3519} INFO -  at 14.3s,\testimator lgbm's best error=0.2235,\tbest estimator lgbm's best error=0.2235\n",
      "[flaml.automl.automl: 03-30 18:39:05] {3334} INFO - iteration 33, current learner xgboost\n"
     ]
    },
    {
     "name": "stderr",
     "output_type": "stream",
     "text": [
      "d:\\Programmation\\Projet_Annuel\\env\\lib\\site-packages\\xgboost\\sklearn.py:1395: UserWarning: `use_label_encoder` is deprecated in 1.7.0.\n",
      "  warnings.warn(\"`use_label_encoder` is deprecated in 1.7.0.\")\n",
      "d:\\Programmation\\Projet_Annuel\\env\\lib\\site-packages\\xgboost\\sklearn.py:1395: UserWarning: `use_label_encoder` is deprecated in 1.7.0.\n",
      "  warnings.warn(\"`use_label_encoder` is deprecated in 1.7.0.\")\n",
      "d:\\Programmation\\Projet_Annuel\\env\\lib\\site-packages\\xgboost\\sklearn.py:1395: UserWarning: `use_label_encoder` is deprecated in 1.7.0.\n",
      "  warnings.warn(\"`use_label_encoder` is deprecated in 1.7.0.\")\n",
      "d:\\Programmation\\Projet_Annuel\\env\\lib\\site-packages\\xgboost\\sklearn.py:1395: UserWarning: `use_label_encoder` is deprecated in 1.7.0.\n",
      "  warnings.warn(\"`use_label_encoder` is deprecated in 1.7.0.\")\n",
      "d:\\Programmation\\Projet_Annuel\\env\\lib\\site-packages\\xgboost\\sklearn.py:1395: UserWarning: `use_label_encoder` is deprecated in 1.7.0.\n",
      "  warnings.warn(\"`use_label_encoder` is deprecated in 1.7.0.\")\n"
     ]
    },
    {
     "name": "stdout",
     "output_type": "stream",
     "text": [
      "[flaml.automl.automl: 03-30 18:39:05] {3519} INFO -  at 14.6s,\testimator xgboost's best error=0.2296,\tbest estimator lgbm's best error=0.2235\n",
      "[flaml.automl.automl: 03-30 18:39:05] {3334} INFO - iteration 34, current learner lgbm\n",
      "[flaml.automl.automl: 03-30 18:39:05] {3519} INFO -  at 15.1s,\testimator lgbm's best error=0.2235,\tbest estimator lgbm's best error=0.2235\n",
      "[flaml.automl.automl: 03-30 18:39:05] {3334} INFO - iteration 35, current learner lgbm\n",
      "[flaml.automl.automl: 03-30 18:39:06] {3519} INFO -  at 15.4s,\testimator lgbm's best error=0.2235,\tbest estimator lgbm's best error=0.2235\n",
      "[flaml.automl.automl: 03-30 18:39:06] {3334} INFO - iteration 36, current learner rf\n",
      "[flaml.automl.automl: 03-30 18:39:07] {3519} INFO -  at 16.3s,\testimator rf's best error=0.2506,\tbest estimator lgbm's best error=0.2235\n",
      "[flaml.automl.automl: 03-30 18:39:07] {3334} INFO - iteration 37, current learner lgbm\n",
      "[flaml.automl.automl: 03-30 18:39:07] {3519} INFO -  at 17.1s,\testimator lgbm's best error=0.2235,\tbest estimator lgbm's best error=0.2235\n",
      "[flaml.automl.automl: 03-30 18:39:07] {3334} INFO - iteration 38, current learner lgbm\n",
      "[flaml.automl.automl: 03-30 18:39:08] {3519} INFO -  at 17.5s,\testimator lgbm's best error=0.2235,\tbest estimator lgbm's best error=0.2235\n",
      "[flaml.automl.automl: 03-30 18:39:08] {3334} INFO - iteration 39, current learner lgbm\n",
      "[flaml.automl.automl: 03-30 18:39:09] {3519} INFO -  at 18.4s,\testimator lgbm's best error=0.2235,\tbest estimator lgbm's best error=0.2235\n",
      "[flaml.automl.automl: 03-30 18:39:09] {3334} INFO - iteration 40, current learner lgbm\n",
      "[flaml.automl.automl: 03-30 18:39:09] {3519} INFO -  at 18.7s,\testimator lgbm's best error=0.2235,\tbest estimator lgbm's best error=0.2235\n",
      "[flaml.automl.automl: 03-30 18:39:09] {3334} INFO - iteration 41, current learner lgbm\n",
      "[flaml.automl.automl: 03-30 18:39:10] {3519} INFO -  at 20.0s,\testimator lgbm's best error=0.2235,\tbest estimator lgbm's best error=0.2235\n",
      "[flaml.automl.automl: 03-30 18:39:10] {3334} INFO - iteration 42, current learner lgbm\n",
      "[flaml.automl.automl: 03-30 18:39:11] {3519} INFO -  at 20.4s,\testimator lgbm's best error=0.2235,\tbest estimator lgbm's best error=0.2235\n",
      "[flaml.automl.automl: 03-30 18:39:11] {3334} INFO - iteration 43, current learner lgbm\n",
      "[flaml.automl.automl: 03-30 18:39:11] {3519} INFO -  at 20.9s,\testimator lgbm's best error=0.2235,\tbest estimator lgbm's best error=0.2235\n",
      "[flaml.automl.automl: 03-30 18:39:11] {3334} INFO - iteration 44, current learner extra_tree\n",
      "[flaml.automl.automl: 03-30 18:39:12] {3519} INFO -  at 21.3s,\testimator extra_tree's best error=0.2631,\tbest estimator lgbm's best error=0.2235\n",
      "[flaml.automl.automl: 03-30 18:39:12] {3334} INFO - iteration 45, current learner lgbm\n",
      "[flaml.automl.automl: 03-30 18:39:12] {3519} INFO -  at 21.9s,\testimator lgbm's best error=0.2235,\tbest estimator lgbm's best error=0.2235\n",
      "[flaml.automl.automl: 03-30 18:39:12] {3334} INFO - iteration 46, current learner lgbm\n",
      "[flaml.automl.automl: 03-30 18:39:13] {3519} INFO -  at 22.6s,\testimator lgbm's best error=0.2235,\tbest estimator lgbm's best error=0.2235\n",
      "[flaml.automl.automl: 03-30 18:39:13] {3334} INFO - iteration 47, current learner rf\n",
      "[flaml.automl.automl: 03-30 18:39:13] {3519} INFO -  at 23.2s,\testimator rf's best error=0.2506,\tbest estimator lgbm's best error=0.2235\n",
      "[flaml.automl.automl: 03-30 18:39:13] {3334} INFO - iteration 48, current learner lgbm\n",
      "[flaml.automl.automl: 03-30 18:39:14] {3519} INFO -  at 23.6s,\testimator lgbm's best error=0.2214,\tbest estimator lgbm's best error=0.2214\n",
      "[flaml.automl.automl: 03-30 18:39:14] {3334} INFO - iteration 49, current learner lgbm\n",
      "[flaml.automl.automl: 03-30 18:39:14] {3519} INFO -  at 24.2s,\testimator lgbm's best error=0.2214,\tbest estimator lgbm's best error=0.2214\n",
      "[flaml.automl.automl: 03-30 18:39:14] {3334} INFO - iteration 50, current learner xgboost\n"
     ]
    },
    {
     "name": "stderr",
     "output_type": "stream",
     "text": [
      "d:\\Programmation\\Projet_Annuel\\env\\lib\\site-packages\\xgboost\\sklearn.py:1395: UserWarning: `use_label_encoder` is deprecated in 1.7.0.\n",
      "  warnings.warn(\"`use_label_encoder` is deprecated in 1.7.0.\")\n",
      "d:\\Programmation\\Projet_Annuel\\env\\lib\\site-packages\\xgboost\\sklearn.py:1395: UserWarning: `use_label_encoder` is deprecated in 1.7.0.\n",
      "  warnings.warn(\"`use_label_encoder` is deprecated in 1.7.0.\")\n",
      "d:\\Programmation\\Projet_Annuel\\env\\lib\\site-packages\\xgboost\\sklearn.py:1395: UserWarning: `use_label_encoder` is deprecated in 1.7.0.\n",
      "  warnings.warn(\"`use_label_encoder` is deprecated in 1.7.0.\")\n",
      "d:\\Programmation\\Projet_Annuel\\env\\lib\\site-packages\\xgboost\\sklearn.py:1395: UserWarning: `use_label_encoder` is deprecated in 1.7.0.\n",
      "  warnings.warn(\"`use_label_encoder` is deprecated in 1.7.0.\")\n"
     ]
    },
    {
     "name": "stdout",
     "output_type": "stream",
     "text": [
      "[flaml.automl.automl: 03-30 18:39:15] {3519} INFO -  at 24.5s,\testimator xgboost's best error=0.2296,\tbest estimator lgbm's best error=0.2214\n",
      "[flaml.automl.automl: 03-30 18:39:15] {3334} INFO - iteration 51, current learner lgbm\n"
     ]
    },
    {
     "name": "stderr",
     "output_type": "stream",
     "text": [
      "d:\\Programmation\\Projet_Annuel\\env\\lib\\site-packages\\xgboost\\sklearn.py:1395: UserWarning: `use_label_encoder` is deprecated in 1.7.0.\n",
      "  warnings.warn(\"`use_label_encoder` is deprecated in 1.7.0.\")\n"
     ]
    },
    {
     "name": "stdout",
     "output_type": "stream",
     "text": [
      "[flaml.automl.automl: 03-30 18:39:15] {3519} INFO -  at 24.9s,\testimator lgbm's best error=0.2214,\tbest estimator lgbm's best error=0.2214\n",
      "[flaml.automl.automl: 03-30 18:39:15] {3334} INFO - iteration 52, current learner lgbm\n",
      "[flaml.automl.automl: 03-30 18:39:15] {3519} INFO -  at 25.2s,\testimator lgbm's best error=0.2214,\tbest estimator lgbm's best error=0.2214\n",
      "[flaml.automl.automl: 03-30 18:39:15] {3334} INFO - iteration 53, current learner lgbm\n",
      "[flaml.automl.automl: 03-30 18:39:16] {3519} INFO -  at 25.5s,\testimator lgbm's best error=0.2214,\tbest estimator lgbm's best error=0.2214\n",
      "[flaml.automl.automl: 03-30 18:39:16] {3334} INFO - iteration 54, current learner lgbm\n",
      "[flaml.automl.automl: 03-30 18:39:16] {3519} INFO -  at 25.9s,\testimator lgbm's best error=0.2214,\tbest estimator lgbm's best error=0.2214\n",
      "[flaml.automl.automl: 03-30 18:39:16] {3334} INFO - iteration 55, current learner lgbm\n",
      "[flaml.automl.automl: 03-30 18:39:16] {3519} INFO -  at 26.1s,\testimator lgbm's best error=0.2214,\tbest estimator lgbm's best error=0.2214\n",
      "[flaml.automl.automl: 03-30 18:39:16] {3334} INFO - iteration 56, current learner lgbm\n",
      "[flaml.automl.automl: 03-30 18:39:17] {3519} INFO -  at 26.6s,\testimator lgbm's best error=0.2214,\tbest estimator lgbm's best error=0.2214\n",
      "[flaml.automl.automl: 03-30 18:39:17] {3334} INFO - iteration 57, current learner lgbm\n",
      "[flaml.automl.automl: 03-30 18:39:17] {3519} INFO -  at 26.8s,\testimator lgbm's best error=0.2214,\tbest estimator lgbm's best error=0.2214\n",
      "[flaml.automl.automl: 03-30 18:39:17] {3334} INFO - iteration 58, current learner lgbm\n",
      "[flaml.automl.automl: 03-30 18:39:18] {3519} INFO -  at 27.4s,\testimator lgbm's best error=0.2214,\tbest estimator lgbm's best error=0.2214\n",
      "[flaml.automl.automl: 03-30 18:39:18] {3334} INFO - iteration 59, current learner lgbm\n",
      "[flaml.automl.automl: 03-30 18:39:18] {3519} INFO -  at 27.9s,\testimator lgbm's best error=0.2214,\tbest estimator lgbm's best error=0.2214\n",
      "[flaml.automl.automl: 03-30 18:39:18] {3334} INFO - iteration 60, current learner lgbm\n",
      "[flaml.automl.automl: 03-30 18:39:18] {3519} INFO -  at 28.1s,\testimator lgbm's best error=0.2214,\tbest estimator lgbm's best error=0.2214\n",
      "[flaml.automl.automl: 03-30 18:39:18] {3334} INFO - iteration 61, current learner lgbm\n",
      "[flaml.automl.automl: 03-30 18:39:19] {3519} INFO -  at 28.3s,\testimator lgbm's best error=0.2214,\tbest estimator lgbm's best error=0.2214\n",
      "[flaml.automl.automl: 03-30 18:39:19] {3334} INFO - iteration 62, current learner lgbm\n",
      "[flaml.automl.automl: 03-30 18:39:19] {3519} INFO -  at 28.9s,\testimator lgbm's best error=0.2214,\tbest estimator lgbm's best error=0.2214\n",
      "[flaml.automl.automl: 03-30 18:39:19] {3334} INFO - iteration 63, current learner lgbm\n",
      "[flaml.automl.automl: 03-30 18:39:20] {3519} INFO -  at 29.7s,\testimator lgbm's best error=0.2214,\tbest estimator lgbm's best error=0.2214\n",
      "[flaml.automl.automl: 03-30 18:39:20] {3334} INFO - iteration 64, current learner lgbm\n",
      "[flaml.automl.automl: 03-30 18:39:20] {3519} INFO -  at 29.9s,\testimator lgbm's best error=0.2214,\tbest estimator lgbm's best error=0.2214\n",
      "[flaml.automl.automl: 03-30 18:39:20] {3334} INFO - iteration 65, current learner lgbm\n",
      "[flaml.automl.automl: 03-30 18:39:20] {3519} INFO -  at 30.2s,\testimator lgbm's best error=0.2214,\tbest estimator lgbm's best error=0.2214\n",
      "[flaml.automl.automl: 03-30 18:39:20] {3334} INFO - iteration 66, current learner lgbm\n",
      "[flaml.automl.automl: 03-30 18:39:21] {3519} INFO -  at 30.6s,\testimator lgbm's best error=0.2214,\tbest estimator lgbm's best error=0.2214\n",
      "[flaml.automl.automl: 03-30 18:39:21] {3334} INFO - iteration 67, current learner lgbm\n",
      "[flaml.automl.automl: 03-30 18:39:21] {3519} INFO -  at 30.8s,\testimator lgbm's best error=0.2214,\tbest estimator lgbm's best error=0.2214\n",
      "[flaml.automl.automl: 03-30 18:39:21] {3334} INFO - iteration 68, current learner lgbm\n",
      "[flaml.automl.automl: 03-30 18:39:22] {3519} INFO -  at 31.4s,\testimator lgbm's best error=0.2214,\tbest estimator lgbm's best error=0.2214\n",
      "[flaml.automl.automl: 03-30 18:39:22] {3334} INFO - iteration 69, current learner lgbm\n",
      "[flaml.automl.automl: 03-30 18:39:22] {3519} INFO -  at 32.3s,\testimator lgbm's best error=0.2214,\tbest estimator lgbm's best error=0.2214\n",
      "[flaml.automl.automl: 03-30 18:39:22] {3334} INFO - iteration 70, current learner lgbm\n",
      "[flaml.automl.automl: 03-30 18:39:23] {3519} INFO -  at 32.4s,\testimator lgbm's best error=0.2214,\tbest estimator lgbm's best error=0.2214\n",
      "[flaml.automl.automl: 03-30 18:39:23] {3334} INFO - iteration 71, current learner lgbm\n",
      "[flaml.automl.automl: 03-30 18:39:23] {3519} INFO -  at 32.8s,\testimator lgbm's best error=0.2214,\tbest estimator lgbm's best error=0.2214\n",
      "[flaml.automl.automl: 03-30 18:39:23] {3334} INFO - iteration 72, current learner extra_tree\n",
      "[flaml.automl.automl: 03-30 18:39:23] {3519} INFO -  at 33.2s,\testimator extra_tree's best error=0.2548,\tbest estimator lgbm's best error=0.2214\n",
      "[flaml.automl.automl: 03-30 18:39:23] {3334} INFO - iteration 73, current learner extra_tree\n",
      "[flaml.automl.automl: 03-30 18:39:24] {3519} INFO -  at 33.8s,\testimator extra_tree's best error=0.2505,\tbest estimator lgbm's best error=0.2214\n",
      "[flaml.automl.automl: 03-30 18:39:24] {3334} INFO - iteration 74, current learner extra_tree\n",
      "[flaml.automl.automl: 03-30 18:39:25] {3519} INFO -  at 34.5s,\testimator extra_tree's best error=0.2505,\tbest estimator lgbm's best error=0.2214\n",
      "[flaml.automl.automl: 03-30 18:39:25] {3334} INFO - iteration 75, current learner lgbm\n",
      "[flaml.automl.automl: 03-30 18:39:25] {3519} INFO -  at 34.9s,\testimator lgbm's best error=0.2214,\tbest estimator lgbm's best error=0.2214\n",
      "[flaml.automl.automl: 03-30 18:39:25] {3334} INFO - iteration 76, current learner lgbm\n",
      "[flaml.automl.automl: 03-30 18:39:26] {3519} INFO -  at 35.4s,\testimator lgbm's best error=0.2214,\tbest estimator lgbm's best error=0.2214\n",
      "[flaml.automl.automl: 03-30 18:39:26] {3334} INFO - iteration 77, current learner extra_tree\n",
      "[flaml.automl.automl: 03-30 18:39:26] {3519} INFO -  at 35.8s,\testimator extra_tree's best error=0.2443,\tbest estimator lgbm's best error=0.2214\n",
      "[flaml.automl.automl: 03-30 18:39:26] {3334} INFO - iteration 78, current learner lgbm\n",
      "[flaml.automl.automl: 03-30 18:39:26] {3519} INFO -  at 36.2s,\testimator lgbm's best error=0.2214,\tbest estimator lgbm's best error=0.2214\n",
      "[flaml.automl.automl: 03-30 18:39:26] {3334} INFO - iteration 79, current learner lgbm\n",
      "[flaml.automl.automl: 03-30 18:39:27] {3519} INFO -  at 36.4s,\testimator lgbm's best error=0.2214,\tbest estimator lgbm's best error=0.2214\n",
      "[flaml.automl.automl: 03-30 18:39:27] {3334} INFO - iteration 80, current learner extra_tree\n",
      "[flaml.automl.automl: 03-30 18:39:27] {3519} INFO -  at 37.2s,\testimator extra_tree's best error=0.2443,\tbest estimator lgbm's best error=0.2214\n",
      "[flaml.automl.automl: 03-30 18:39:27] {3334} INFO - iteration 81, current learner lgbm\n",
      "[flaml.automl.automl: 03-30 18:39:28] {3519} INFO -  at 37.8s,\testimator lgbm's best error=0.2214,\tbest estimator lgbm's best error=0.2214\n",
      "[flaml.automl.automl: 03-30 18:39:28] {3334} INFO - iteration 82, current learner extra_tree\n",
      "[flaml.automl.automl: 03-30 18:39:29] {3519} INFO -  at 38.3s,\testimator extra_tree's best error=0.2443,\tbest estimator lgbm's best error=0.2214\n",
      "[flaml.automl.automl: 03-30 18:39:29] {3334} INFO - iteration 83, current learner extra_tree\n",
      "[flaml.automl.automl: 03-30 18:39:29] {3519} INFO -  at 39.3s,\testimator extra_tree's best error=0.2277,\tbest estimator lgbm's best error=0.2214\n",
      "[flaml.automl.automl: 03-30 18:39:29] {3334} INFO - iteration 84, current learner extra_tree\n",
      "[flaml.automl.automl: 03-30 18:39:30] {3519} INFO -  at 40.0s,\testimator extra_tree's best error=0.2277,\tbest estimator lgbm's best error=0.2214\n",
      "[flaml.automl.automl: 03-30 18:39:30] {3334} INFO - iteration 85, current learner extra_tree\n",
      "[flaml.automl.automl: 03-30 18:39:31] {3519} INFO -  at 41.1s,\testimator extra_tree's best error=0.2234,\tbest estimator lgbm's best error=0.2214\n",
      "[flaml.automl.automl: 03-30 18:39:31] {3334} INFO - iteration 86, current learner extra_tree\n",
      "[flaml.automl.automl: 03-30 18:39:32] {3519} INFO -  at 41.8s,\testimator extra_tree's best error=0.2234,\tbest estimator lgbm's best error=0.2214\n",
      "[flaml.automl.automl: 03-30 18:39:32] {3334} INFO - iteration 87, current learner extra_tree\n",
      "[flaml.automl.automl: 03-30 18:39:33] {3519} INFO -  at 42.9s,\testimator extra_tree's best error=0.2234,\tbest estimator lgbm's best error=0.2214\n",
      "[flaml.automl.automl: 03-30 18:39:33] {3334} INFO - iteration 88, current learner rf\n",
      "[flaml.automl.automl: 03-30 18:39:34] {3519} INFO -  at 43.5s,\testimator rf's best error=0.2506,\tbest estimator lgbm's best error=0.2214\n",
      "[flaml.automl.automl: 03-30 18:39:34] {3334} INFO - iteration 89, current learner extra_tree\n",
      "[flaml.automl.automl: 03-30 18:39:35] {3519} INFO -  at 44.4s,\testimator extra_tree's best error=0.2234,\tbest estimator lgbm's best error=0.2214\n",
      "[flaml.automl.automl: 03-30 18:39:35] {3334} INFO - iteration 90, current learner extra_tree\n",
      "[flaml.automl.automl: 03-30 18:39:35] {3519} INFO -  at 45.1s,\testimator extra_tree's best error=0.2234,\tbest estimator lgbm's best error=0.2214\n",
      "[flaml.automl.automl: 03-30 18:39:35] {3334} INFO - iteration 91, current learner extra_tree\n",
      "[flaml.automl.automl: 03-30 18:39:36] {3519} INFO -  at 45.6s,\testimator extra_tree's best error=0.2234,\tbest estimator lgbm's best error=0.2214\n",
      "[flaml.automl.automl: 03-30 18:39:36] {3334} INFO - iteration 92, current learner extra_tree\n",
      "[flaml.automl.automl: 03-30 18:39:37] {3519} INFO -  at 46.4s,\testimator extra_tree's best error=0.2234,\tbest estimator lgbm's best error=0.2214\n",
      "[flaml.automl.automl: 03-30 18:39:37] {3334} INFO - iteration 93, current learner extra_tree\n",
      "[flaml.automl.automl: 03-30 18:39:38] {3519} INFO -  at 47.5s,\testimator extra_tree's best error=0.2151,\tbest estimator extra_tree's best error=0.2151\n",
      "[flaml.automl.automl: 03-30 18:39:38] {3334} INFO - iteration 94, current learner rf\n",
      "[flaml.automl.automl: 03-30 18:39:38] {3519} INFO -  at 47.9s,\testimator rf's best error=0.2506,\tbest estimator extra_tree's best error=0.2151\n",
      "[flaml.automl.automl: 03-30 18:39:38] {3334} INFO - iteration 95, current learner extra_tree\n",
      "[flaml.automl.automl: 03-30 18:39:39] {3519} INFO -  at 48.7s,\testimator extra_tree's best error=0.2151,\tbest estimator extra_tree's best error=0.2151\n",
      "[flaml.automl.automl: 03-30 18:39:39] {3334} INFO - iteration 96, current learner extra_tree\n",
      "[flaml.automl.automl: 03-30 18:39:40] {3519} INFO -  at 49.5s,\testimator extra_tree's best error=0.2151,\tbest estimator extra_tree's best error=0.2151\n",
      "[flaml.automl.automl: 03-30 18:39:40] {3334} INFO - iteration 97, current learner extra_tree\n",
      "[flaml.automl.automl: 03-30 18:39:41] {3519} INFO -  at 50.8s,\testimator extra_tree's best error=0.2151,\tbest estimator extra_tree's best error=0.2151\n",
      "[flaml.automl.automl: 03-30 18:39:41] {3334} INFO - iteration 98, current learner extra_tree\n",
      "[flaml.automl.automl: 03-30 18:39:42] {3519} INFO -  at 51.8s,\testimator extra_tree's best error=0.2068,\tbest estimator extra_tree's best error=0.2068\n",
      "[flaml.automl.automl: 03-30 18:39:42] {3334} INFO - iteration 99, current learner extra_tree\n",
      "[flaml.automl.automl: 03-30 18:39:43] {3519} INFO -  at 52.8s,\testimator extra_tree's best error=0.2068,\tbest estimator extra_tree's best error=0.2068\n",
      "[flaml.automl.automl: 03-30 18:39:43] {3334} INFO - iteration 100, current learner extra_tree\n",
      "[flaml.automl.automl: 03-30 18:39:44] {3519} INFO -  at 53.6s,\testimator extra_tree's best error=0.2068,\tbest estimator extra_tree's best error=0.2068\n",
      "[flaml.automl.automl: 03-30 18:39:44] {3334} INFO - iteration 101, current learner extra_tree\n",
      "[flaml.automl.automl: 03-30 18:39:45] {3519} INFO -  at 54.6s,\testimator extra_tree's best error=0.2068,\tbest estimator extra_tree's best error=0.2068\n",
      "[flaml.automl.automl: 03-30 18:39:45] {3334} INFO - iteration 102, current learner lgbm\n",
      "[flaml.automl.automl: 03-30 18:39:45] {3519} INFO -  at 54.9s,\testimator lgbm's best error=0.2214,\tbest estimator extra_tree's best error=0.2068\n",
      "[flaml.automl.automl: 03-30 18:39:45] {3334} INFO - iteration 103, current learner extra_tree\n",
      "[flaml.automl.automl: 03-30 18:39:46] {3519} INFO -  at 55.7s,\testimator extra_tree's best error=0.2068,\tbest estimator extra_tree's best error=0.2068\n",
      "[flaml.automl.automl: 03-30 18:39:46] {3334} INFO - iteration 104, current learner extra_tree\n",
      "[flaml.automl.automl: 03-30 18:39:47] {3519} INFO -  at 57.2s,\testimator extra_tree's best error=0.2047,\tbest estimator extra_tree's best error=0.2047\n",
      "[flaml.automl.automl: 03-30 18:39:47] {3334} INFO - iteration 105, current learner extra_tree\n",
      "[flaml.automl.automl: 03-30 18:39:49] {3519} INFO -  at 58.5s,\testimator extra_tree's best error=0.2047,\tbest estimator extra_tree's best error=0.2047\n",
      "[flaml.automl.automl: 03-30 18:39:49] {3334} INFO - iteration 106, current learner extra_tree\n",
      "[flaml.automl.automl: 03-30 18:39:50] {3519} INFO -  at 60.2s,\testimator extra_tree's best error=0.2031,\tbest estimator extra_tree's best error=0.2031\n",
      "[flaml.automl.automl: 03-30 18:39:51] {3783} INFO - retrain extra_tree for 0.3s\n",
      "[flaml.automl.automl: 03-30 18:39:51] {3790} INFO - retrained model: ExtraTreesClassifier(criterion='entropy', max_features=0.8691393278586136,\n",
      "                     max_leaf_nodes=19, n_estimators=30, n_jobs=-1,\n",
      "                     random_state=12032022)\n",
      "[flaml.automl.automl: 03-30 18:39:51] {3034} INFO - fit succeeded\n",
      "[flaml.automl.automl: 03-30 18:39:51] {3035} INFO - Time taken to find the best model: 60.16043400764465\n"
     ]
    }
   ],
   "source": [
    "settings = {\n",
    "\"time_budget\": 60,  # total running time in seconds\n",
    "\"metric\": 'accuracy', \n",
    "\"task\": 'classification',  # task type\n",
    "\"log_file_name\": 'modelv1.log',  # flaml log file\n",
    "\"seed\": 1,    # random seed\n",
    "}\n",
    "\n",
    "\n",
    "automl = AutoML()\n",
    "automl.fit(x_train, y_train,**settings)\n"
   ]
  },
  {
   "cell_type": "code",
   "execution_count": 50,
   "metadata": {},
   "outputs": [
    {
     "name": "stdout",
     "output_type": "stream",
     "text": [
      "Accuracy: 0.7166666666666667\n"
     ]
    }
   ],
   "source": [
    "from sklearn.metrics import accuracy_score\n",
    "\n",
    "y_pred = automl.predict(x_test)\n",
    "accuracy = accuracy_score(y_test, y_pred)\n",
    "print(\"Accuracy:\", accuracy)\n"
   ]
  },
  {
   "cell_type": "code",
   "execution_count": 52,
   "metadata": {},
   "outputs": [
    {
     "name": "stdout",
     "output_type": "stream",
     "text": [
      "Meilleur modèle : <flaml.automl.model.ExtraTreesEstimator object at 0x000001C787E682E0>\n",
      "Paramètres : {'n_estimators': 30, 'max_features': 0.8691393278586136, 'max_leaves': 19, 'criterion': 'entropy'}\n"
     ]
    }
   ],
   "source": [
    "print(\"Meilleur modèle :\", automl.model)\n",
    "print(\"Paramètres :\", automl.best_config)\n"
   ]
  },
  {
   "cell_type": "code",
   "execution_count": 53,
   "metadata": {},
   "outputs": [],
   "source": [
    "\n",
    "# Sauvegarder le modèle\n",
    "with open(\"./trained_models/best_model.pkl\", \"wb\") as file:\n",
    "    pickle.dump(automl.model, file)\n",
    "\n"
   ]
  },
  {
   "cell_type": "code",
   "execution_count": 54,
   "metadata": {},
   "outputs": [],
   "source": [
    "# Charger le modèle\n",
    "with open(\"./trained_models/best_model.pkl\", \"rb\") as file:\n",
    "    loaded_model = pickle.load(file)"
   ]
  },
  {
   "cell_type": "code",
   "execution_count": 55,
   "metadata": {},
   "outputs": [],
   "source": [
    "'''compute predictions of testing dataset''' \n",
    "y_pred = automl.predict(x_test)\n",
    "y_pred_proba = automl.predict_proba(x_test)\n",
    "# print(y_pred_proba)\n"
   ]
  },
  {
   "cell_type": "code",
   "execution_count": 66,
   "metadata": {},
   "outputs": [
    {
     "data": {
      "image/png": "[encoded data removed]",
      "text/plain": [
       "<Figure size 640x480 with 1 Axes>"
      ]
     },
     "metadata": {},
     "output_type": "display_data"
    }
   ],
   "source": [
    "# Prediction probability histogramme\n",
    "choised_proba = []\n",
    "for dual_prob in y_pred_proba:\n",
    "    if dual_prob[0] >= dual_prob[1]:\n",
    "        choised_proba.append(dual_prob[0])\n",
    "    else:\n",
    "        choised_proba.append(dual_prob[1])\n",
    "\n",
    "plt.hist(choised_proba, bins=30, edgecolor='black', alpha=0.75)\n",
    "plt.xlim(0.5,1)\n",
    "plt.xlabel('prediction probability')\n",
    "plt.ylabel('Fréquence')\n",
    "plt.title('Prediction probability distribution')\n",
    "\n",
    "# Affichez l'histogramme\n",
    "plt.show()\n"
   ]
  },
  {
   "cell_type": "code",
   "execution_count": 56,
   "metadata": {},
   "outputs": [
    {
     "name": "stdout",
     "output_type": "stream",
     "text": [
      "      proba_0   proba_1  pred\n",
      "0    0.732216  0.267784     0\n",
      "1    0.376479  0.623521     1\n",
      "2    0.663205  0.336795     0\n",
      "3    0.854686  0.145314     0\n",
      "4    0.788826  0.211174     0\n",
      "..        ...       ...   ...\n",
      "115  0.686764  0.313236     0\n",
      "116  0.507736  0.492264     0\n",
      "117  0.322098  0.677902     1\n",
      "118  0.802572  0.197428     0\n",
      "119  0.410070  0.589930     1\n",
      "\n",
      "[120 rows x 3 columns]\n"
     ]
    }
   ],
   "source": [
    "pred_df = pd.DataFrame(y_pred_proba,columns=[\"proba_0\",\"proba_1\"])\n",
    "pred_df[\"pred\"] = y_pred\n",
    "\n",
    "print(pred_df)"
   ]
  },
  {
   "cell_type": "code",
   "execution_count": 57,
   "metadata": {},
   "outputs": [
    {
     "name": "stdout",
     "output_type": "stream",
     "text": [
      "accuracy = 0.7166666666666667\n",
      "roc_auc = 0.757476076555024\n",
      "log_loss = 0.5541923366768677\n"
     ]
    }
   ],
   "source": [
    "proba = automl.predict_proba(x_test)[:,1]\n",
    "from flaml.ml import sklearn_metric_loss_score\n",
    "print('accuracy', '=', 1 - sklearn_metric_loss_score('accuracy', y_pred, y_test))\n",
    "print('roc_auc', '=', 1 - sklearn_metric_loss_score('roc_auc', proba, y_test))\n",
    "print('log_loss', '=', sklearn_metric_loss_score('log_loss', proba, y_test))"
   ]
  },
  {
   "cell_type": "code",
   "execution_count": 58,
   "metadata": {},
   "outputs": [
    {
     "name": "stdout",
     "output_type": "stream",
     "text": [
      "{'Current Learner': 'lgbm', 'Current Sample': 479, 'Current Hyper-parameters': {'n_estimators': 4, 'num_leaves': 4, 'min_child_samples': 20, 'learning_rate': 0.09999999999999995, 'log_max_bin': 8, 'colsample_bytree': 1.0, 'reg_alpha': 0.0009765625, 'reg_lambda': 1.0}, 'Best Learner': 'lgbm', 'Best Hyper-parameters': {'n_estimators': 4, 'num_leaves': 4, 'min_child_samples': 20, 'learning_rate': 0.09999999999999995, 'log_max_bin': 8, 'colsample_bytree': 1.0, 'reg_alpha': 0.0009765625, 'reg_lambda': 1.0}}\n",
      "{'Current Learner': 'lgbm', 'Current Sample': 479, 'Current Hyper-parameters': {'n_estimators': 4, 'num_leaves': 4, 'min_child_samples': 10, 'learning_rate': 0.24265799106484617, 'log_max_bin': 7, 'colsample_bytree': 0.9350250030443705, 'reg_alpha': 0.0016817704116337995, 'reg_lambda': 0.2602716047300951}, 'Best Learner': 'lgbm', 'Best Hyper-parameters': {'n_estimators': 4, 'num_leaves': 4, 'min_child_samples': 10, 'learning_rate': 0.24265799106484617, 'log_max_bin': 7, 'colsample_bytree': 0.9350250030443705, 'reg_alpha': 0.0016817704116337995, 'reg_lambda': 0.2602716047300951}}\n",
      "{'Current Learner': 'lgbm', 'Current Sample': 479, 'Current Hyper-parameters': {'n_estimators': 4, 'num_leaves': 4, 'min_child_samples': 12, 'learning_rate': 1.0, 'log_max_bin': 7, 'colsample_bytree': 0.8329315437250463, 'reg_alpha': 0.0033508000609790765, 'reg_lambda': 0.12143169613088406}, 'Best Learner': 'lgbm', 'Best Hyper-parameters': {'n_estimators': 4, 'num_leaves': 4, 'min_child_samples': 12, 'learning_rate': 1.0, 'log_max_bin': 7, 'colsample_bytree': 0.8329315437250463, 'reg_alpha': 0.0033508000609790765, 'reg_lambda': 0.12143169613088406}}\n",
      "{'Current Learner': 'lgbm', 'Current Sample': 479, 'Current Hyper-parameters': {'n_estimators': 4, 'num_leaves': 4, 'min_child_samples': 19, 'learning_rate': 0.9909397346337855, 'log_max_bin': 8, 'colsample_bytree': 0.8554634464016099, 'reg_alpha': 0.001997146970884422, 'reg_lambda': 0.8921463788323271}, 'Best Learner': 'lgbm', 'Best Hyper-parameters': {'n_estimators': 4, 'num_leaves': 4, 'min_child_samples': 19, 'learning_rate': 0.9909397346337855, 'log_max_bin': 8, 'colsample_bytree': 0.8554634464016099, 'reg_alpha': 0.001997146970884422, 'reg_lambda': 0.8921463788323271}}\n",
      "{'Current Learner': 'xgboost', 'Current Sample': 479, 'Current Hyper-parameters': {'n_estimators': 4, 'max_leaves': 4, 'min_child_weight': 0.13609034272388, 'learning_rate': 0.24661363052574625, 'subsample': 0.8718531457078008, 'colsample_bylevel': 0.9338398291531309, 'colsample_bytree': 1.0, 'reg_alpha': 0.0009765625, 'reg_lambda': 0.3121107326565384}, 'Best Learner': 'xgboost', 'Best Hyper-parameters': {'n_estimators': 4, 'max_leaves': 4, 'min_child_weight': 0.13609034272388, 'learning_rate': 0.24661363052574625, 'subsample': 0.8718531457078008, 'colsample_bylevel': 0.9338398291531309, 'colsample_bytree': 1.0, 'reg_alpha': 0.0009765625, 'reg_lambda': 0.3121107326565384}}\n",
      "{'Current Learner': 'lgbm', 'Current Sample': 479, 'Current Hyper-parameters': {'n_estimators': 12, 'num_leaves': 4, 'min_child_samples': 16, 'learning_rate': 0.41122291824430707, 'log_max_bin': 8, 'colsample_bytree': 0.9334617262810193, 'reg_alpha': 0.0019971217491198128, 'reg_lambda': 0.44228633904124554}, 'Best Learner': 'lgbm', 'Best Hyper-parameters': {'n_estimators': 12, 'num_leaves': 4, 'min_child_samples': 16, 'learning_rate': 0.41122291824430707, 'log_max_bin': 8, 'colsample_bytree': 0.9334617262810193, 'reg_alpha': 0.0019971217491198128, 'reg_lambda': 0.44228633904124554}}\n",
      "{'Current Learner': 'lgbm', 'Current Sample': 479, 'Current Hyper-parameters': {'n_estimators': 9, 'num_leaves': 5, 'min_child_samples': 19, 'learning_rate': 0.6269974770408019, 'log_max_bin': 8, 'colsample_bytree': 1.0, 'reg_alpha': 0.0009765625, 'reg_lambda': 2.0850220780750535}, 'Best Learner': 'lgbm', 'Best Hyper-parameters': {'n_estimators': 9, 'num_leaves': 5, 'min_child_samples': 19, 'learning_rate': 0.6269974770408019, 'log_max_bin': 8, 'colsample_bytree': 1.0, 'reg_alpha': 0.0009765625, 'reg_lambda': 2.0850220780750535}}\n",
      "{'Current Learner': 'extra', 'Current Sample': 479, 'Current Hyper-parameters': {'n_estimators': 19, 'max_features': 0.8036266511813231, 'max_leaves': 11, 'criterion': 'gini'}, 'Best Learner': 'extra', 'Best Hyper-parameters': {'n_estimators': 19, 'max_features': 0.8036266511813231, 'max_leaves': 11, 'criterion': 'gini'}}\n",
      "{'Current Learner': 'extra', 'Current Sample': 479, 'Current Hyper-parameters': {'n_estimators': 15, 'max_features': 0.7842230033091883, 'max_leaves': 14, 'criterion': 'gini'}, 'Best Learner': 'extra', 'Best Hyper-parameters': {'n_estimators': 15, 'max_features': 0.7842230033091883, 'max_leaves': 14, 'criterion': 'gini'}}\n",
      "{'Current Learner': 'extra', 'Current Sample': 479, 'Current Hyper-parameters': {'n_estimators': 31, 'max_features': 0.8763233951994943, 'max_leaves': 15, 'criterion': 'entropy'}, 'Best Learner': 'extra', 'Best Hyper-parameters': {'n_estimators': 31, 'max_features': 0.8763233951994943, 'max_leaves': 15, 'criterion': 'entropy'}}\n",
      "{'Current Learner': 'extra', 'Current Sample': 479, 'Current Hyper-parameters': {'n_estimators': 30, 'max_features': 0.8691393278586136, 'max_leaves': 19, 'criterion': 'entropy'}, 'Best Learner': 'extra', 'Best Hyper-parameters': {'n_estimators': 30, 'max_features': 0.8691393278586136, 'max_leaves': 19, 'criterion': 'entropy'}}\n"
     ]
    }
   ],
   "source": [
    "from flaml.data import get_output_from_log\n",
    "time_history, best_valid_loss_history, valid_loss_history, config_history, metric_history = \\\n",
    "    get_output_from_log(filename=settings['log_file_name'], time_budget=240)\n",
    "for config in config_history:\n",
    "    print(config)"
   ]
  },
  {
   "cell_type": "code",
   "execution_count": 59,
   "metadata": {},
   "outputs": [
    {
     "data": {
      "image/png": "[encoded data removed]",
      "text/plain": [
       "<Figure size 640x480 with 1 Axes>"
      ]
     },
     "metadata": {},
     "output_type": "display_data"
    }
   ],
   "source": [
    "import matplotlib.pyplot as plt\n",
    "import numpy as np\n",
    "\n",
    "plt.title('Learning Curve')\n",
    "plt.xlabel('Wall Clock Time (s)')\n",
    "plt.ylabel('Validation Accuracy')\n",
    "plt.scatter(time_history, 1 - np.array(valid_loss_history))\n",
    "plt.step(time_history, 1 - np.array(best_valid_loss_history), where='post')\n",
    "plt.show()"
   ]
  }
 ],
 "metadata": {
  "kernelspec": {
   "display_name": "env",
   "language": "python",
   "name": "python3"
  },
  "language_info": {
   "codemirror_mode": {
    "name": "ipython",
    "version": 3
   },
   "file_extension": ".py",
   "mimetype": "text/x-python",
   "name": "python",
   "nbconvert_exporter": "python",
   "pygments_lexer": "ipython3",
   "version": "3.10.4"
  },
  "orig_nbformat": 4
 },
 "nbformat": 4,
 "nbformat_minor": 2
}
