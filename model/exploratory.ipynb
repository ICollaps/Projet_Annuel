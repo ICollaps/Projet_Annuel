{
 "cells": [
  {
   "cell_type": "code",
   "execution_count": 2,
   "metadata": {},
   "outputs": [],
   "source": [
    "import pandas as pd\n",
    "import numpy as np\n",
    "import matplotlib.pyplot as plt"
   ]
  },
  {
   "cell_type": "code",
   "execution_count": 4,
   "metadata": {},
   "outputs": [
    {
     "name": "stdout",
     "output_type": "stream",
     "text": [
      "            ID  PRG   PL  PR  SK   TS   M11    BD2  Age  Insurance   Sepssis\n",
      "0    ICU200010    6  148  72  35    0  33.6  0.627   50          0  Positive\n",
      "1    ICU200011    1   85  66  29    0  26.6  0.351   31          0  Negative\n",
      "2    ICU200012    8  183  64   0    0  23.3  0.672   32          1  Positive\n",
      "3    ICU200013    1   89  66  23   94  28.1  0.167   21          1  Negative\n",
      "4    ICU200014    0  137  40  35  168  43.1  2.288   33          1  Positive\n",
      "..         ...  ...  ...  ..  ..  ...   ...    ...  ...        ...       ...\n",
      "594  ICU200604    6  123  72  45  230  33.6  0.733   34          0  Negative\n",
      "595  ICU200605    0  188  82  14  185  32.0  0.682   22          1  Positive\n",
      "596  ICU200606    0   67  76   0    0  45.3  0.194   46          1  Negative\n",
      "597  ICU200607    1   89  24  19   25  27.8  0.559   21          0  Negative\n",
      "598  ICU200608    1  173  74   0    0  36.8  0.088   38          1  Positive\n",
      "\n",
      "[599 rows x 11 columns]\n"
     ]
    }
   ],
   "source": [
    "data = pd.read_csv(\"./data/data_sepsis.csv\")\n",
    "print(data)"
   ]
  }
 ],
 "metadata": {
  "kernelspec": {
   "display_name": "env",
   "language": "python",
   "name": "python3"
  },
  "language_info": {
   "codemirror_mode": {
    "name": "ipython",
    "version": 3
   },
   "file_extension": ".py",
   "mimetype": "text/x-python",
   "name": "python",
   "nbconvert_exporter": "python",
   "pygments_lexer": "ipython3",
   "version": "3.10.4"
  },
  "orig_nbformat": 4
 },
 "nbformat": 4,
 "nbformat_minor": 2
}
